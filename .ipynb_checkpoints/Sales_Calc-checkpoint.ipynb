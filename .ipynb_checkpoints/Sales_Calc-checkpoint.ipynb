{
 "cells": [
  {
   "cell_type": "code",
   "execution_count": 11,
   "metadata": {},
   "outputs": [],
   "source": [
    "import warnings\n",
    "warnings.filterwarnings('ignore')"
   ]
  },
  {
   "cell_type": "code",
   "execution_count": 12,
   "metadata": {},
   "outputs": [],
   "source": [
    "from taipy.gui import Gui, Markdown, State, notify"
   ]
  },
  {
   "cell_type": "code",
   "execution_count": 13,
   "metadata": {},
   "outputs": [],
   "source": [
    "import numpy as np \n",
    "import pandas as pd \n",
    "import matplotlib.pyplot as plt\n",
    "%matplotlib inline\n",
    "import seaborn as sns"
   ]
  },
  {
   "cell_type": "code",
   "execution_count": 14,
   "metadata": {},
   "outputs": [],
   "source": [
    "page = \"\"\"\n",
    "<|toggle|theme|>\n",
    "<|20 80|layout|gap=30px|\n",
    "<|sidebar|\n",
    "## **Apply Filter:** {: style=\"color: #51829B\"}\n",
    "|>\n",
    "\n",
    "<|text-center |\n",
    "# **SALESAI   🤖**{: style=\"color: #51829B\"}\n",
    ">\n",
    "<hr/>\n",
    "### **SALES CALCULATOR**{: style=\"color: #AD88C6\"}\n",
    "<|1 1 1 |layout|\n",
    "<total_Product|\n",
    "#### **Number of products sold**:\n",
    "<|{number_of_products_sold}|number|>\n",
    "|total_Product>\n",
    "\n",
    "<amount|\n",
    "####  **Amount of One Product**:\n",
    "<|{amount_of_one_product}|number|>\n",
    "|amount>\n",
    "\n",
    "<amount_p|\n",
    "#### **Cost of making one Product**:\n",
    "<|{Cost_of}|number|>\n",
    "|amount_p>\n",
    "|>\n",
    "<br/>\n",
    "<|Calculate|button|on_action=button_pressed|>\n",
    "<|text-center |\n",
    "##**TOTAL SALE:**\n",
    "Rs. 51,000\n",
    ">\n",
    "\"\"\""
   ]
  },
  {
   "cell_type": "code",
   "execution_count": 15,
   "metadata": {},
   "outputs": [
    {
     "name": "stdout",
     "output_type": "stream",
     "text": [
      "[2024-03-09 22:14:04][Taipy][INFO] Running in 'single_client' mode in notebook environment\n"
     ]
    },
    {
     "name": "stderr",
     "output_type": "stream",
     "text": [
      "INFO:Taipy:Running in 'single_client' mode in notebook environment\n"
     ]
    },
    {
     "name": "stdout",
     "output_type": "stream",
     "text": [
      "[2024-03-09 22:14:08][Taipy][INFO] Gui server has been stopped.\n"
     ]
    },
    {
     "name": "stderr",
     "output_type": "stream",
     "text": [
      "INFO:Taipy:Gui server has been stopped.\n"
     ]
    },
    {
     "name": "stdout",
     "output_type": "stream",
     "text": [
      "[2024-03-09 22:14:08][Taipy][INFO]  * Server starting on http://127.0.0.1:5000\n"
     ]
    },
    {
     "name": "stderr",
     "output_type": "stream",
     "text": [
      "INFO:Taipy: * Server starting on http://127.0.0.1:5000\n",
      "Unhandled Error\n",
      "Traceback (most recent call last):\n",
      "  File \"C:\\Users\\shiva\\anaconda3\\Lib\\site-packages\\twisted\\python\\log.py\", line 96, in callWithLogger\n",
      "    return callWithContext({\"system\": lp}, func, *args, **kw)\n",
      "  File \"C:\\Users\\shiva\\anaconda3\\Lib\\site-packages\\twisted\\python\\log.py\", line 80, in callWithContext\n",
      "    return context.call({ILogContext: newCtx}, func, *args, **kw)\n",
      "  File \"C:\\Users\\shiva\\anaconda3\\Lib\\site-packages\\twisted\\python\\context.py\", line 117, in callWithContext\n",
      "    return self.currentContext().callWithContext(ctx, func, *args, **kw)\n",
      "  File \"C:\\Users\\shiva\\anaconda3\\Lib\\site-packages\\twisted\\python\\context.py\", line 82, in callWithContext\n",
      "    return func(*args, **kw)\n",
      "--- <exception caught here> ---\n",
      "  File \"C:\\Users\\shiva\\anaconda3\\Lib\\site-packages\\twisted\\internet\\selectreactor.py\", line 148, in _doReadOrWrite\n",
      "    why = getattr(selectable, method)()\n",
      "  File \"C:\\Users\\shiva\\anaconda3\\Lib\\site-packages\\twisted\\internet\\tcp.py\", line 577, in doConnect\n",
      "    self.failIfNotConnected(error.getConnectError((err, strerror(err))))\n",
      "  File \"C:\\Users\\shiva\\anaconda3\\Lib\\site-packages\\twisted\\internet\\tcp.py\", line 485, in failIfNotConnected\n",
      "    self.connector.connectionFailed(failure.Failure(err))\n",
      "  File \"C:\\Users\\shiva\\anaconda3\\Lib\\site-packages\\twisted\\internet\\base.py\", line 1297, in connectionFailed\n",
      "    self.factory.clientConnectionFailed(self, reason)\n",
      "  File \"C:\\Users\\shiva\\anaconda3\\Lib\\site-packages\\twisted\\web\\proxy.py\", line 115, in clientConnectionFailed\n",
      "    self.father.finish()\n",
      "  File \"C:\\Users\\shiva\\anaconda3\\Lib\\site-packages\\twisted\\web\\server.py\", line 277, in finish\n",
      "    return http.Request.finish(self)\n",
      "  File \"C:\\Users\\shiva\\anaconda3\\Lib\\site-packages\\twisted\\web\\http.py\", line 1149, in finish\n",
      "    raise RuntimeError(\n",
      "builtins.RuntimeError: Request.finish called on a request after its connection was lost; use Request.notifyFinish to keep track of this.\n",
      "\n",
      "Unhandled Error\n",
      "Traceback (most recent call last):\n",
      "  File \"C:\\Users\\shiva\\anaconda3\\Lib\\threading.py\", line 975, in run\n",
      "    self._target(*self._args, **self._kwargs)\n",
      "  File \"C:\\Users\\shiva\\anaconda3\\Lib\\site-packages\\twisted\\internet\\base.py\", line 695, in run\n",
      "    self.mainLoop()\n",
      "  File \"C:\\Users\\shiva\\anaconda3\\Lib\\site-packages\\twisted\\internet\\base.py\", line 708, in mainLoop\n",
      "    self.doIteration(t)\n",
      "  File \"C:\\Users\\shiva\\anaconda3\\Lib\\site-packages\\twisted\\internet\\selectreactor.py\", line 142, in doSelect\n",
      "    _logrun(selectable, _drdw, selectable, method)\n",
      "--- <exception caught here> ---\n",
      "  File \"C:\\Users\\shiva\\anaconda3\\Lib\\site-packages\\twisted\\python\\log.py\", line 96, in callWithLogger\n",
      "    return callWithContext({\"system\": lp}, func, *args, **kw)\n",
      "  File \"C:\\Users\\shiva\\anaconda3\\Lib\\site-packages\\twisted\\python\\log.py\", line 80, in callWithContext\n",
      "    return context.call({ILogContext: newCtx}, func, *args, **kw)\n",
      "  File \"C:\\Users\\shiva\\anaconda3\\Lib\\site-packages\\twisted\\python\\context.py\", line 117, in callWithContext\n",
      "    return self.currentContext().callWithContext(ctx, func, *args, **kw)\n",
      "  File \"C:\\Users\\shiva\\anaconda3\\Lib\\site-packages\\twisted\\python\\context.py\", line 82, in callWithContext\n",
      "    return func(*args, **kw)\n",
      "  File \"C:\\Users\\shiva\\anaconda3\\Lib\\site-packages\\twisted\\internet\\selectreactor.py\", line 153, in _doReadOrWrite\n",
      "    self._disconnectSelectable(selectable, why, method == \"doRead\")\n",
      "  File \"C:\\Users\\shiva\\anaconda3\\Lib\\site-packages\\twisted\\internet\\posixbase.py\", line 113, in _disconnectSelectable\n",
      "    selectable.connectionLost(failure.Failure(why))\n",
      "  File \"C:\\Users\\shiva\\anaconda3\\Lib\\site-packages\\twisted\\internet\\tcp.py\", line 506, in connectionLost\n",
      "    self.failIfNotConnected(error.ConnectError(string=reason))\n",
      "  File \"C:\\Users\\shiva\\anaconda3\\Lib\\site-packages\\twisted\\internet\\tcp.py\", line 485, in failIfNotConnected\n",
      "    self.connector.connectionFailed(failure.Failure(err))\n",
      "  File \"C:\\Users\\shiva\\anaconda3\\Lib\\site-packages\\twisted\\internet\\base.py\", line 1297, in connectionFailed\n",
      "    self.factory.clientConnectionFailed(self, reason)\n",
      "  File \"C:\\Users\\shiva\\anaconda3\\Lib\\site-packages\\twisted\\web\\proxy.py\", line 115, in clientConnectionFailed\n",
      "    self.father.finish()\n",
      "  File \"C:\\Users\\shiva\\anaconda3\\Lib\\site-packages\\twisted\\web\\server.py\", line 277, in finish\n",
      "    return http.Request.finish(self)\n",
      "  File \"C:\\Users\\shiva\\anaconda3\\Lib\\site-packages\\twisted\\web\\http.py\", line 1149, in finish\n",
      "    raise RuntimeError(\n",
      "builtins.RuntimeError: Request.finish called on a request after its connection was lost; use Request.notifyFinish to keep track of this.\n",
      "\n"
     ]
    }
   ],
   "source": [
    "Gui(page).run(margin=\"0em\", title=\"Sales Dashboard\")"
   ]
  },
  {
   "cell_type": "code",
   "execution_count": null,
   "metadata": {},
   "outputs": [],
   "source": []
  }
 ],
 "metadata": {
  "kernelspec": {
   "display_name": "Python 3 (ipykernel)",
   "language": "python",
   "name": "python3"
  },
  "language_info": {
   "codemirror_mode": {
    "name": "ipython",
    "version": 3
   },
   "file_extension": ".py",
   "mimetype": "text/x-python",
   "name": "python",
   "nbconvert_exporter": "python",
   "pygments_lexer": "ipython3",
   "version": "3.11.4"
  }
 },
 "nbformat": 4,
 "nbformat_minor": 2
}
