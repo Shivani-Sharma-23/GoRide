{
 "cells": [
  {
   "cell_type": "code",
   "execution_count": 1,
   "metadata": {},
   "outputs": [],
   "source": [
    "import warnings\n",
    "warnings.filterwarnings('ignore')"
   ]
  },
  {
   "cell_type": "code",
   "execution_count": 2,
   "metadata": {},
   "outputs": [],
   "source": [
    "import numpy as np \n",
    "import pandas as pd \n",
    "import matplotlib.pyplot as plt\n",
    "%matplotlib inline\n",
    "import seaborn as sns"
   ]
  },
  {
   "cell_type": "code",
   "execution_count": 3,
   "metadata": {},
   "outputs": [],
   "source": [
    "from taipy.gui import Gui, State, notify,Markdown \n",
    "import openai"
   ]
  },
  {
   "cell_type": "code",
   "execution_count": 4,
   "metadata": {},
   "outputs": [],
   "source": [
    "context = \"The following is a conversation with an AI assistant. The assistant is helpful, creative, clever, and very friendly.\\n\\nHuman: Hello, who are you?\\nAI: I am an AI created by OpenAI. How can I help you today? \"\n",
    "conversation = {\n",
    "    \"Conversation\": [\"Who are you?\", \"Hi! I am SalesAI💻🤖. How can I help you today?\",\"What do you know about Sales Management?\", \"Sales management involves overseeing and coordinating the activities and processes related to selling a company's products or services to customers. It encompasses various tasks, including setting sales targets, developing sales strategies, managing sales teams, monitoring performance, and analyzing sales data.\"]\n",
    "}\n",
    "current_user_message = \"\""
   ]
  },
  {
   "cell_type": "code",
   "execution_count": 5,
   "metadata": {},
   "outputs": [],
   "source": [
    "page = \"\"\"\n",
    "<|{conversation}|table|show_all|width=100%|>\n",
    "<|{current_user_message}|input|label=Write your message here...|on_action=send_message|class_name=fullwidth|>\n",
    "\"\"\""
   ]
  },
  {
   "cell_type": "code",
   "execution_count": 6,
   "metadata": {},
   "outputs": [
    {
     "name": "stdout",
     "output_type": "stream",
     "text": [
      "[2024-03-10 18:05:07][Taipy][INFO] Running in 'single_client' mode in notebook environment\n",
      "[2024-03-10 18:05:11][Taipy][INFO]  * Server starting on http://127.0.0.1:5000\n"
     ]
    },
    {
     "name": "stderr",
     "output_type": "stream",
     "text": [
      "WARNING:root:\u001b[1;31m\n",
      "--- 1 warning(s) were found for page '/' in variable 'page' ---\n",
      " - Warning 1: input.on_action: send_message is not a function.\n",
      "----------------------------------------------------------------\u001b[0m\n",
      "\n",
      "WARNING:root:\u001b[1;31m\n",
      "--- 1 warning(s) were found for page '/' in variable 'page' ---\n",
      " - Warning 1: input.on_action: send_message is not a function.\n",
      "----------------------------------------------------------------\u001b[0m\n",
      "\n"
     ]
    }
   ],
   "source": [
    "if __name__ == \"__main__\":\n",
    "    Gui(page).run(dark_mode=True, title=\"SalesAI\")"
   ]
  },
  {
   "cell_type": "code",
   "execution_count": null,
   "metadata": {},
   "outputs": [],
   "source": []
  }
 ],
 "metadata": {
  "kernelspec": {
   "display_name": "Python 3 (ipykernel)",
   "language": "python",
   "name": "python3"
  },
  "language_info": {
   "codemirror_mode": {
    "name": "ipython",
    "version": 3
   },
   "file_extension": ".py",
   "mimetype": "text/x-python",
   "name": "python",
   "nbconvert_exporter": "python",
   "pygments_lexer": "ipython3",
   "version": "3.11.4"
  }
 },
 "nbformat": 4,
 "nbformat_minor": 2
}
