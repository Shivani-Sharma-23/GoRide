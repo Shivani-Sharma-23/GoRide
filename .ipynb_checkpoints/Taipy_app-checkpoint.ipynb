{
 "cells": [
  {
   "cell_type": "code",
   "execution_count": 1,
   "id": "08765788",
   "metadata": {},
   "outputs": [],
   "source": [
    "import warnings\n",
    "warnings.filterwarnings('ignore')"
   ]
  },
  {
   "cell_type": "code",
   "execution_count": 2,
   "id": "e735a777",
   "metadata": {},
   "outputs": [],
   "source": [
    "from taipy.gui import Gui, Markdown, State, notify"
   ]
  },
  {
   "cell_type": "code",
   "execution_count": 3,
   "id": "d8d8383c",
   "metadata": {},
   "outputs": [],
   "source": [
    "import numpy as np \n",
    "import pandas as pd \n",
    "import matplotlib.pyplot as plt\n",
    "%matplotlib inline\n",
    "import seaborn as sns"
   ]
  },
  {
   "cell_type": "code",
   "execution_count": 4,
   "id": "98861366",
   "metadata": {},
   "outputs": [],
   "source": [
    "df = pd.read_csv('Diwali Sales Data.csv', encoding= 'unicode_escape')"
   ]
  },
  {
   "cell_type": "code",
   "execution_count": 5,
   "id": "a9ceecca",
   "metadata": {},
   "outputs": [],
   "source": [
    "state = list(df[\"State\"].unique())\n",
    "occu = list(df[\"Occupation\"].unique())\n",
    "\n",
    "layout = {\"margin\": {\"l\": 220}}"
   ]
  },
  {
   "cell_type": "code",
   "execution_count": 6,
   "id": "638b71cb",
   "metadata": {},
   "outputs": [],
   "source": [
    "page = \"\"\"\n",
    "<|15 85|layout|gap=30px|\n",
    "<|sidebar|\n",
    "## **Add Filter :** {: style=\"color: #51829B\"}\n",
    "\n",
    "<|{states}|selector|lov={state}|multiple|label=STATE|dropdown|on_change=on_filter|class_name=fullwidth|>\n",
    "\n",
    "<|{occus}|selector|lov={occu}|multiple|label=OCCUPATION|dropdown|on_change=on_filter|class_name=fullwidth|>\n",
    "\n",
    "|>\n",
    "\n",
    "<main_page|\n",
    "<heading_sales|\n",
    "##### **SALES ANALYSIS**{: style=\"color: #51829B\"}\n",
    "<|1 1 1 1|layout|\n",
    "<total_market_cap|\n",
    "#### **Expected Revenue**:\n",
    "US $ <|{int(df[\"Amount\"].sum())}|>\n",
    "|total_market_cap>\n",
    "\n",
    "<average_price|\n",
    "####  **Closed and Expected Revenue**:\n",
    "US $ 45\n",
    "|average_price>\n",
    "\n",
    "<average_change|\n",
    "#### **Opportunities Won**:\n",
    "45%\n",
    "|average_change>\n",
    "\n",
    "<total_market_cap|\n",
    "#### **Open Opportunities**:\n",
    "US $ 45\n",
    "|total_market_cap>\n",
    "|>\n",
    "|main_page>\n",
    "|>\n",
    "\"\"\"\n",
    "\n"
   ]
  },
  {
   "cell_type": "code",
   "execution_count": 7,
   "id": "df6064a9",
   "metadata": {},
   "outputs": [
    {
     "name": "stdout",
     "output_type": "stream",
     "text": [
      "[2024-03-02 20:07:17][Taipy][INFO] Running in 'single_client' mode in notebook environment\n",
      "[2024-03-02 20:07:21][Taipy][INFO]  * Server starting on http://127.0.0.1:5000\n"
     ]
    },
    {
     "name": "stderr",
     "output_type": "stream",
     "text": [
      "WARNING:root:\u001b[1;31m\n",
      "--- 4 warning(s) were found for page '/' in variable 'page' ---\n",
      " - Warning 1: Unmatched 'part' tag identifier in line 13 and line 36.\n",
      " - Warning 2: Missing closing 'part' tag identifier 'main_page' in line 37.\n",
      " - Warning 3: Opened tag layout in line 2 is not closed.\n",
      " - Warning 4: selector.on_change: on_filter is not a function.\n",
      "----------------------------------------------------------------\u001b[0m\n",
      "\n",
      "WARNING:root:\u001b[1;31m\n",
      "--- 4 warning(s) were found for page '/' in variable 'page' ---\n",
      " - Warning 1: Unmatched 'part' tag identifier in line 13 and line 36.\n",
      " - Warning 2: Missing closing 'part' tag identifier 'main_page' in line 37.\n",
      " - Warning 3: Opened tag layout in line 2 is not closed.\n",
      " - Warning 4: selector.on_change: on_filter is not a function.\n",
      "----------------------------------------------------------------\u001b[0m\n",
      "\n"
     ]
    }
   ],
   "source": [
    "Gui(page).run(margin=\"0em\", title=\"Sales Dashboard\")"
   ]
  },
  {
   "cell_type": "code",
   "execution_count": null,
   "id": "d8e204d4",
   "metadata": {},
   "outputs": [],
   "source": []
  }
 ],
 "metadata": {
  "kernelspec": {
   "display_name": "Python 3 (ipykernel)",
   "language": "python",
   "name": "python3"
  },
  "language_info": {
   "codemirror_mode": {
    "name": "ipython",
    "version": 3
   },
   "file_extension": ".py",
   "mimetype": "text/x-python",
   "name": "python",
   "nbconvert_exporter": "python",
   "pygments_lexer": "ipython3",
   "version": "3.11.4"
  }
 },
 "nbformat": 4,
 "nbformat_minor": 5
}
