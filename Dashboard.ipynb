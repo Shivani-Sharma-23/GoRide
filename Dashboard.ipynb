{
 "cells": [
  {
   "cell_type": "code",
   "execution_count": 1,
   "id": "08765788",
   "metadata": {},
   "outputs": [],
   "source": [
    "import warnings\n",
    "warnings.filterwarnings('ignore')"
   ]
  },
  {
   "cell_type": "code",
   "execution_count": 2,
   "id": "e735a777",
   "metadata": {},
   "outputs": [],
   "source": [
    "from taipy.gui import Gui, Markdown, State, notify"
   ]
  },
  {
   "cell_type": "code",
   "execution_count": 3,
   "id": "d8d8383c",
   "metadata": {},
   "outputs": [],
   "source": [
    "import numpy as np \n",
    "import pandas as pd \n",
    "import matplotlib.pyplot as plt\n",
    "%matplotlib inline\n",
    "import seaborn as sns"
   ]
  },
  {
   "cell_type": "code",
   "execution_count": 4,
   "id": "98861366",
   "metadata": {},
   "outputs": [],
   "source": [
    "df = pd.read_csv('Diwali Sales Data.csv', encoding= 'unicode_escape')"
   ]
  },
  {
   "cell_type": "code",
   "execution_count": 5,
   "id": "1f928023",
   "metadata": {},
   "outputs": [],
   "source": [
    "state = list(df[\"State\"].unique())\n",
    "occu = list(df[\"Occupation\"].unique())\n",
    "layout = {\"margin\": {\"l\": 220}}\n",
    "states = []\n",
    "occus = []"
   ]
  },
  {
   "cell_type": "code",
   "execution_count": 6,
   "id": "8b1f6d81",
   "metadata": {},
   "outputs": [
    {
     "data": {
      "text/plain": [
       "array([1, 3, 2, 4], dtype=int64)"
      ]
     },
     "execution_count": 6,
     "metadata": {},
     "output_type": "execute_result"
    }
   ],
   "source": [
    "df[\"Orders\"].unique()"
   ]
  },
  {
   "cell_type": "code",
   "execution_count": 7,
   "id": "0d752101",
   "metadata": {},
   "outputs": [
    {
     "data": {
      "text/plain": [
       "array(['26-35', '0-17', '18-25', '55+', '46-50', '51-55', '36-45'],\n",
       "      dtype=object)"
      ]
     },
     "execution_count": 7,
     "metadata": {},
     "output_type": "execute_result"
    }
   ],
   "source": [
    "df[\"Age Group\"].unique()"
   ]
  },
  {
   "cell_type": "code",
   "execution_count": 8,
   "id": "eda9b429",
   "metadata": {},
   "outputs": [],
   "source": [
    "data = {\n",
    "    \"Date\": pd.date_range(\"01-03-05\", periods=4, freq=\"D\"),\n",
    "    \"State\": [-15,-12.9,7.2,10.2],\n",
    "    \"Min\": [-22,-19.7,2.7,6.5],\n",
    "    \"Max\": [-8.6,-8.2,12.,13.5]\n",
    "}"
   ]
  },
  {
   "cell_type": "code",
   "execution_count": 9,
   "id": "d7dbf0df",
   "metadata": {},
   "outputs": [],
   "source": [
    "def filter(states,occus):\n",
    "    df2 = df[\n",
    "        df[\"State\"].isin(states)\n",
    "        & df[\"Occupation\"].isin(occus)\n",
    "    ]\n",
    "\n",
    "    print(\"Number of rows after filtering:\", len(df2)) \n",
    "\n",
    "    return df2\n",
    "\n",
    "def on_filter(state):\n",
    "    if len(state.states) == 0 or len(state.occus) == 0:\n",
    "        notify(state, \"Error\", \"No results found. Check the filters.\")\n",
    "        return\n",
    "    \n",
    "    state.df_selection = filter(\n",
    "        state.states, state.occus\n",
    "    )\n"
   ]
  },
  {
   "cell_type": "code",
   "execution_count": 10,
   "id": "638b71cb",
   "metadata": {},
   "outputs": [],
   "source": [
    "page = \"\"\"\n",
    "<|toggle|theme|>\n",
    "\n",
    "<|text-center |\n",
    "# **SALESAI   🤖**{: style=\"color: #51829B\"}\n",
    ">\n",
    "<hr/>\n",
    "### **SALES CALCULATOR**{: style=\"color: #AD88C6\"}\n",
    "<|1 1 1 |layout|\n",
    "<total_Product|\n",
    "#### **Number of products sold**:\n",
    "<|{number_of_products_sold}|number|>\n",
    "|total_Product>\n",
    "\n",
    "<amount|\n",
    "####  **Amount of One Product**:\n",
    "<|{amount_of_one_product}|number|>\n",
    "|amount>\n",
    "\n",
    "<amount_p|\n",
    "#### **Cost of making one Product**:\n",
    "<|{Cost_of}|number|>\n",
    "|amount_p>\n",
    "|>\n",
    "<br/>\n",
    "<|Calculate|button|on_action=button_pressed|>\n",
    "<|text-center |\n",
    "##**TOTAL SALE:**\n",
    "Rs. 51,000\n",
    ">\n",
    "<br/>\n",
    "<hr/>\n",
    "## **DATA ANALYSIS**{: style=\"color: #AD88C6\"}\n",
    "<|{data}|chart|mode=lines|x=Date|y[1]=State|y[2]=Min|y[3]=Max|line[1]=dash|color[2]=blue|color[3]=red|>\n",
    "\n",
    "<|1 1 1 1|layout|\n",
    "<total_amount|\n",
    "#### **AMOUNT**:\n",
    "Rs. <|{int(df['Amount'].sum())}|>\n",
    "|total_amount>\n",
    "\n",
    "<orders|\n",
    "####  **Orders count**:\n",
    "<|{int(df['Orders'].sum())}|> units\n",
    "|orders>\n",
    "\n",
    "<age|\n",
    "#### **Age Group**:\n",
    "<|{int(df['Age Group'].count())}|>\n",
    "|age>\n",
    "\n",
    "<user|\n",
    "#### **No of **Users:\n",
    "<|{int(df['User_ID'].count())}|> User\n",
    "|user>\n",
    "|>\n",
    "<br/>\n",
    "<hr/>\n",
    "## **DO DATA ANALYSIS BY APPLYING FILTERS**{: style=\"color: #AD88C6\"}\n",
    "<|20 80|layout|gap=30px|\n",
    "<|sidebar|\n",
    "## **Apply Filter:** {: style=\"color: #51829B\"}\n",
    "\n",
    "<|{states}|selector|lov={state}|multiple|label=STATE|dropdown|on_change=on_filter|class_name=fullwidth|>\n",
    "<br/>\n",
    "<|{occus}|selector|lov={occu}|multiple|label=OCCUPATION|dropdown|on_change=on_filter|class_name=fullwidth|>\n",
    "\n",
    "|>\n",
    "\n",
    "<main_page|\n",
    "\n",
    "<|1 1 1 1|layout|\n",
    "<total_amount|\n",
    "#### **AMOUNT**:\n",
    "Rs. <|{int(df['Amount'].sum())}|>\n",
    "|total_amount>\n",
    "\n",
    "<orders|\n",
    "####  **Orders count**:\n",
    "<|{int(df['Orders'].sum())}|> units\n",
    "|orders>\n",
    "\n",
    "<age|\n",
    "#### **Age Group**:\n",
    "0-17 \n",
    "<br/>\n",
    "26-35\n",
    "|age>\n",
    "\n",
    "<user|\n",
    "#### **No of **Users:\n",
    "<|{int(df['User_ID'].count())}|> User\n",
    "|user>\n",
    "|>\n",
    "<br/>\n",
    "\n",
    "<|DIWALI SALES|expandable|not expanded|\n",
    "<|{df}|table|page_size=5|>\n",
    "|>\n",
    "|main_page>\n",
    "|>\n",
    "\"\"\"\n",
    "\n"
   ]
  },
  {
   "cell_type": "code",
   "execution_count": 11,
   "id": "1c11b68b",
   "metadata": {},
   "outputs": [],
   "source": [
    "def button_pressed(state):\n",
    "    state.scenario.number_of_products_sold.submit(wait=True)\n",
    "    state.scenario.amount_of_one_product.submit(wait=True)\n",
    "    state.scenario.Cost_of.submit(wait=True)\n",
    "    t = number_of_products_sold * amount_of_one_product - Cost_of * number_of_products_sold\n",
    "    state.t = scenario.t.read()\n",
    "  "
   ]
  },
  {
   "cell_type": "code",
   "execution_count": 12,
   "id": "e2f43c22",
   "metadata": {},
   "outputs": [
    {
     "name": "stdout",
     "output_type": "stream",
     "text": [
      "Number of rows after filtering: 0\n"
     ]
    }
   ],
   "source": [
    "if __name__ == \"__main__\":\n",
    "    df2 = filter(states, occus) \n",
    "    total_market_cap = int(df[\"Amount\"].sum())\n",
    "    page = page.replace(\"<|{int(df2['Amount'].sum())}|>\", f\"<|{total_market_cap}|>\")\n",
    "   "
   ]
  },
  {
   "cell_type": "code",
   "execution_count": null,
   "id": "8bb1be19",
   "metadata": {},
   "outputs": [],
   "source": [
    "Gui(page).run(margin=\"0em\", title=\"Sales Dashboard\")"
   ]
  },
  {
   "cell_type": "code",
   "execution_count": null,
   "id": "055e738f",
   "metadata": {},
   "outputs": [],
   "source": []
  }
 ],
 "metadata": {
  "kernelspec": {
   "display_name": "Python 3 (ipykernel)",
   "language": "python",
   "name": "python3"
  },
  "language_info": {
   "codemirror_mode": {
    "name": "ipython",
    "version": 3
   },
   "file_extension": ".py",
   "mimetype": "text/x-python",
   "name": "python",
   "nbconvert_exporter": "python",
   "pygments_lexer": "ipython3",
   "version": "3.11.4"
  }
 },
 "nbformat": 4,
 "nbformat_minor": 5
}
