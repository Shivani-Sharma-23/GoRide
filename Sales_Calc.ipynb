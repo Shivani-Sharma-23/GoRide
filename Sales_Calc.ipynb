{
 "cells": [
  {
   "cell_type": "code",
   "execution_count": 21,
   "metadata": {},
   "outputs": [],
   "source": [
    "import warnings\n",
    "warnings.filterwarnings('ignore')"
   ]
  },
  {
   "cell_type": "code",
   "execution_count": 22,
   "metadata": {},
   "outputs": [],
   "source": [
    "from taipy.gui import Gui, Markdown, State, notify"
   ]
  },
  {
   "cell_type": "code",
   "execution_count": 23,
   "metadata": {},
   "outputs": [],
   "source": [
    "import numpy as np \n",
    "import pandas as pd \n",
    "import matplotlib.pyplot as plt\n",
    "%matplotlib inline\n",
    "import seaborn as sns"
   ]
  },
  {
   "cell_type": "code",
   "execution_count": 24,
   "metadata": {},
   "outputs": [],
   "source": [
    "page = \"\"\"\n",
    "<|toggle|theme|>\n",
    "<|20 80|layout|gap=30px|\n",
    "<|sidebar|\n",
    "## **Apply Filter:** {: style=\"color: #51829B\"}\n",
    "|>\n",
    "\n",
    "<|text-center |\n",
    "# **SALESAI   🤖**{: style=\"color: #51829B\"}\n",
    ">\n",
    "<hr/>\n",
    "### **SALES CALCULATOR**{: style=\"color: #AD88C6\"}\n",
    "<|1 1 1 |layout|\n",
    "<total_Product|\n",
    "#### **Number of products sold**:\n",
    "<|{number_of_products_sold}|number|>\n",
    "|total_Product>\n",
    "\n",
    "<amount|\n",
    "####  **Amount of One Product**:\n",
    "<|{amount_of_one_product}|number|>\n",
    "|amount>\n",
    "\n",
    "<amount_p|\n",
    "#### **Cost of making one Product**:\n",
    "<|{Cost_of}|number|>\n",
    "|amount_p>\n",
    "|>\n",
    "<br/>\n",
    "<|Calculate|button|on_action=button_pressed|>\n",
    "<|text-center |\n",
    "##**TOTAL SALE:**\n",
    "Rs. 51,000\n",
    ">\n",
    "\"\"\""
   ]
  },
  {
   "cell_type": "code",
   "execution_count": 26,
   "metadata": {},
   "outputs": [
    {
     "name": "stdout",
     "output_type": "stream",
     "text": [
      "[2024-03-09 22:23:32][Taipy][INFO] Running in 'single_client' mode in notebook environment\n"
     ]
    },
    {
     "name": "stderr",
     "output_type": "stream",
     "text": [
      "INFO:Taipy:Running in 'single_client' mode in notebook environment\n"
     ]
    },
    {
     "name": "stdout",
     "output_type": "stream",
     "text": [
      "[2024-03-09 22:23:36][Taipy][INFO] Gui server has been stopped.\n"
     ]
    },
    {
     "name": "stderr",
     "output_type": "stream",
     "text": [
      "INFO:Taipy:Gui server has been stopped.\n"
     ]
    },
    {
     "name": "stdout",
     "output_type": "stream",
     "text": [
      "[2024-03-09 22:23:36][Taipy][INFO]  * Server starting on http://127.0.0.1:5000\n"
     ]
    },
    {
     "name": "stderr",
     "output_type": "stream",
     "text": [
      "INFO:Taipy: * Server starting on http://127.0.0.1:5000\n"
     ]
    }
   ],
   "source": [
    "Gui(page).run(margin=\"0em\", title=\"Sales Dashboard\")"
   ]
  },
  {
   "cell_type": "code",
   "execution_count": null,
   "metadata": {},
   "outputs": [],
   "source": []
  }
 ],
 "metadata": {
  "kernelspec": {
   "display_name": "Python 3 (ipykernel)",
   "language": "python",
   "name": "python3"
  },
  "language_info": {
   "codemirror_mode": {
    "name": "ipython",
    "version": 3
   },
   "file_extension": ".py",
   "mimetype": "text/x-python",
   "name": "python",
   "nbconvert_exporter": "python",
   "pygments_lexer": "ipython3",
   "version": "3.11.4"
  }
 },
 "nbformat": 4,
 "nbformat_minor": 2
}
