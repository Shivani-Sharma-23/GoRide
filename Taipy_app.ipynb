{
 "cells": [
  {
   "cell_type": "code",
   "execution_count": 1,
   "id": "08765788",
   "metadata": {},
   "outputs": [],
   "source": [
    "import warnings\n",
    "warnings.filterwarnings('ignore')"
   ]
  },
  {
   "cell_type": "code",
   "execution_count": 2,
   "id": "e735a777",
   "metadata": {},
   "outputs": [],
   "source": [
    "from taipy.gui import Gui, Markdown, State, notify"
   ]
  },
  {
   "cell_type": "code",
   "execution_count": 3,
   "id": "d8d8383c",
   "metadata": {},
   "outputs": [],
   "source": [
    "import numpy as np \n",
    "import pandas as pd \n",
    "import matplotlib.pyplot as plt\n",
    "%matplotlib inline\n",
    "import seaborn as sns"
   ]
  },
  {
   "cell_type": "code",
   "execution_count": 4,
   "id": "98861366",
   "metadata": {},
   "outputs": [],
   "source": [
    "df = pd.read_csv('Diwali Sales Data.csv', encoding= 'unicode_escape')"
   ]
  },
  {
   "cell_type": "code",
   "execution_count": 5,
   "id": "1f928023",
   "metadata": {},
   "outputs": [],
   "source": [
    "state = list(df[\"State\"].unique())\n",
    "occu = list(df[\"Occupation\"].unique())\n",
    "layout = {\"margin\": {\"l\": 220}}\n",
    "states = []\n",
    "occus = []"
   ]
  },
  {
   "cell_type": "code",
   "execution_count": 6,
   "id": "d7dbf0df",
   "metadata": {},
   "outputs": [],
   "source": [
    "def filter(states,occus):\n",
    "    df2 = df[\n",
    "        df[\"State\"].isin(states)\n",
    "        & df[\"Occupation\"].isin(occus)\n",
    "    ]\n",
    "\n",
    "    print(\"Number of rows after filtering:\", len(df2)) \n",
    "\n",
    "    return df2\n",
    "\n",
    "def on_filter(state):\n",
    "    if len(state.states) == 0 or len(state.occus) == 0:\n",
    "        notify(state, \"Error\", \"No results found. Check the filters.\")\n",
    "        return\n",
    "    \n",
    "    state.df_selection = filter(\n",
    "        state.states, state.occus\n",
    "    )\n"
   ]
  },
  {
   "cell_type": "code",
   "execution_count": 7,
   "id": "638b71cb",
   "metadata": {},
   "outputs": [],
   "source": [
    "page = \"\"\"\n",
    "<|20 80|layout|gap=30px|\n",
    "<|sidebar|\n",
    "## **Add Filter:** {: style=\"color: #51829B\"}\n",
    "\n",
    "<|{states}|selector|lov={state}|multiple|label=STATE|dropdown|on_change=on_filter|class_name=fullwidth|>\n",
    "\n",
    "<|{occus}|selector|lov={occu}|multiple|label=OCCUPATION|dropdown|on_change=on_filter|class_name=fullwidth|>\n",
    "\n",
    "|>\n",
    "\n",
    "<main_page|\n",
    "##### **SALES ANALYSIS**{: style=\"color: #51829B\"}\n",
    "<|1 1 1 1|layout|\n",
    "<total_market_cap|\n",
    "#### **AMOUNT**:\n",
    "Rs. <|{int(df2['Amount'].sum())}|>\n",
    "|total_market_cap>\n",
    "\n",
    "<average_price|\n",
    "####  **Orders count**:\n",
    "<|{int(df2['Orders'].sum())}|> units\n",
    "|average_price>\n",
    "\n",
    "<average_change|\n",
    "#### **Age Group**:\n",
    "<|{int(df2['Age Group'].count())}|>\n",
    "|average_change>\n",
    "\n",
    "<total_market_cap|\n",
    "#### **No of **Users:\n",
    "<|{int(df2['User_ID'].count())}|> User\n",
    "|total_market_cap>\n",
    "|>\n",
    "|main_page>\n",
    "|>\n",
    "\"\"\"\n",
    "\n"
   ]
  },
  {
   "cell_type": "code",
   "execution_count": 8,
   "id": "e2f43c22",
   "metadata": {},
   "outputs": [
    {
     "name": "stdout",
     "output_type": "stream",
     "text": [
      "Number of rows after filtering: 0\n"
     ]
    }
   ],
   "source": [
    "if __name__ == \"__main__\":\n",
    "    df2 = filter(states, occus) \n",
    "    total_market_cap = int(df[\"Amount\"].sum())\n",
    "    page = page.replace(\"<|{int(df2['Amount'].sum())}|>\", f\"<|{total_market_cap}|>\")"
   ]
  },
  {
   "cell_type": "code",
   "execution_count": 9,
   "id": "8bb1be19",
   "metadata": {},
   "outputs": [
    {
     "name": "stdout",
     "output_type": "stream",
     "text": [
      "[2024-03-02 21:38:11][Taipy][INFO] Running in 'single_client' mode in notebook environment\n",
      "[2024-03-02 21:38:15][Taipy][INFO]  * Server starting on http://127.0.0.1:5000\n",
      "Number of rows after filtering: 39\n"
     ]
    }
   ],
   "source": [
    "Gui(page).run(margin=\"0em\", title=\"Sales Dashboard\")"
   ]
  },
  {
   "cell_type": "code",
   "execution_count": null,
   "id": "055e738f",
   "metadata": {},
   "outputs": [],
   "source": []
  }
 ],
 "metadata": {
  "kernelspec": {
   "display_name": "Python 3 (ipykernel)",
   "language": "python",
   "name": "python3"
  },
  "language_info": {
   "codemirror_mode": {
    "name": "ipython",
    "version": 3
   },
   "file_extension": ".py",
   "mimetype": "text/x-python",
   "name": "python",
   "nbconvert_exporter": "python",
   "pygments_lexer": "ipython3",
   "version": "3.11.4"
  }
 },
 "nbformat": 4,
 "nbformat_minor": 5
}
