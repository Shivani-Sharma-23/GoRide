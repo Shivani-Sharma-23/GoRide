{
 "cells": [
  {
   "cell_type": "code",
   "execution_count": 1,
   "id": "e735a777",
   "metadata": {},
   "outputs": [],
   "source": [
    "from taipy.gui import Gui, Markdown"
   ]
  },
  {
   "cell_type": "code",
   "execution_count": 2,
   "id": "08765788",
   "metadata": {},
   "outputs": [],
   "source": [
    "import warnings\n",
    "warnings.filterwarnings('ignore')"
   ]
  },
  {
   "cell_type": "code",
   "execution_count": 3,
   "id": "74c99581",
   "metadata": {},
   "outputs": [],
   "source": [
    "from taipy.gui import Gui, State, notify\n",
    "import openai"
   ]
  },
  {
   "cell_type": "code",
   "execution_count": 4,
   "id": "44601258",
   "metadata": {},
   "outputs": [
    {
     "name": "stdout",
     "output_type": "stream",
     "text": [
      "[2024-02-27 22:41:44][Taipy][INFO] Running in 'single_client' mode in notebook environment\n",
      "[2024-02-27 22:41:48][Taipy][INFO]  * Server starting on http://127.0.0.1:5000\n"
     ]
    }
   ],
   "source": [
    "page = Markdown(\"\"\"\n",
    "# Taipy in a Notebook\n",
    "\n",
    "Value: <|{value}|>\n",
    "\n",
    "Set: <|{value}|slider|>\n",
    "\"\"\")\n",
    "\n",
    "value = 10\n",
    "\n",
    "gui = Gui(page)\n",
    "gui.run()"
   ]
  }
 ],
 "metadata": {
  "kernelspec": {
   "display_name": "Python 3 (ipykernel)",
   "language": "python",
   "name": "python3"
  },
  "language_info": {
   "codemirror_mode": {
    "name": "ipython",
    "version": 3
   },
   "file_extension": ".py",
   "mimetype": "text/x-python",
   "name": "python",
   "nbconvert_exporter": "python",
   "pygments_lexer": "ipython3",
   "version": "3.11.4"
  }
 },
 "nbformat": 4,
 "nbformat_minor": 5
}
