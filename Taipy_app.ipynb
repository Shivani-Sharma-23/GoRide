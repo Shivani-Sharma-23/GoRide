{
 "cells": [
  {
   "cell_type": "code",
   "execution_count": null,
   "id": "e735a777",
   "metadata": {},
   "outputs": [],
   "source": [
    "from taipy.gui import Gui, Markdown, State, notify\n",
    "import pandas as pd\n",
    "from keras.models import load_model"
   ]
  },
  {
   "cell_type": "code",
   "execution_count": null,
   "id": "08765788",
   "metadata": {},
   "outputs": [],
   "source": [
    "import warnings\n",
    "warnings.filterwarnings('ignore')"
   ]
  },
  {
   "cell_type": "code",
   "execution_count": null,
   "id": "44601258",
   "metadata": {},
   "outputs": [],
   "source": [
    "page = Markdown(\"\"\"\n",
    "<|container style=\"background-color: #FFC0CB; padding: 20px; border-radius: 10px; box-shadow: 0px 0px 10px rgba(0, 0, 0, 0.8);\">\n",
    "<|text-center|\n",
    "# ***Stock Price Analysis***{: style=\"color: pink\"}\n",
    "<|{path}|image|>\n",
    "#### **Enter the Company name**{: style=\"color: pink\"}\n",
    " Stock Name: \n",
    "<|{selected_stock}|input|label=Stock|on_action=get_data_from_range|> \n",
    "### **data:**{: style=\"color: pink\"}  <|{selected_stock}|text|raw|>\n",
    "<|{data}|table|>\n",
    "<br/>\n",
    "|>\n",
    "<|part|dates style=\"margin-bottom: 20px;\">\n",
    "<|text-center|\n",
    "#### **Enter Time Period**{: style=\"color: pink\"}\n",
    "From:\n",
    "<|{start_date}|date|on_change=get_data_from_range|>  \n",
    "To:\n",
    "<|{end_date}|date|on_change=get_data_from_range|> \n",
    "|dates>\n",
    "\n",
    "<|layout|columns=1 2 1|gap=40px|class_name=card p2|\n",
    "\n",
    "<|part|years style=\"margin-right: 20px;\">\n",
    "\n",
    "#### **Prediction years**{: style=\"color: pink\"}\n",
    "Select the no. of years you wanna predict: <|{n_years}|>  \n",
    "\n",
    "<|{n_years}|input|type=number|on_action=set_years|> \n",
    "<|PREDICT|button|on_action=forecast_display|class_name={'plain' if len(forecast)==0 else ''}|>\n",
    "|years>\n",
    "|>\n",
    "<|part|ticker style=\"margin-right: 20px;\">\n",
    "\n",
    "<|part| Analysis |expandable|expanded=False| style=\"margin-right: 20px;\">\n",
    "|layout>\n",
    "<br/>\n",
    "<|layout|columns=1 1|\n",
    "<|\n",
    "### **Stock closing and Opening price**{: style=\"color: pink\"} \n",
    "<|{data}|chart|mode=line|x=Date|y[1]=Open|y[2]=Close|>\n",
    "|>\n",
    "<|\n",
    "### **Trading Insights**{: style=\"color: pink\"} \n",
    "<|{data}|chart|mode=line|x=Date|y=Volume|>\n",
    "|>\n",
    "|layout>\n",
    "<br/>\n",
    "### **Stock Forecast**{: style=\"color: pink\"} 👩🏻‍💻\n",
    "<|{forecast}|chart|mode=line|x=Date|y[1]=Lower|y[2]=Upper|>\n",
    "<br/>\n",
    "<|More info|button|on_action={lambda s: s.assign(\"show_dialog\", True)}|>\n",
    "{: .text-center}\n",
    "|>\n",
    "<br/>\n",
    "### **Pie Charts Insights**{: style=\"color: pink\"}\n",
    "<|layout|columns=1 2|gap=20px|class_name=card p2|\n",
    "<|part|pie1|\n",
    "#### **Pie Chart 1**{: style=\"color: pink\"}\n",
    "<|{pie1_data}|chart|mode=pie|labels=Labels|values=Values|>\n",
    "|pie1>\n",
    "<|part|pie2|\n",
    "#### **Pie Chart 2**{: style=\"color: pink\"}\n",
    "<|{pie2_data}|chart|mode=pie|labels=Labels|values=Values|>\n",
    "|pie2>\n",
    "|layout>\n",
    "\"\"\")\n",
    "\n",
    "value = 10\n",
    "\n",
    "gui = Gui(page)\n",
    "gui.run()"
   ]
  }
 ],
 "metadata": {
  "kernelspec": {
   "display_name": "Python 3 (ipykernel)",
   "language": "python",
   "name": "python3"
  },
  "language_info": {
   "codemirror_mode": {
    "name": "ipython",
    "version": 3
   },
   "file_extension": ".py",
   "mimetype": "text/x-python",
   "name": "python",
   "nbconvert_exporter": "python",
   "pygments_lexer": "ipython3",
   "version": "3.11.4"
  }
 },
 "nbformat": 4,
 "nbformat_minor": 5
}
